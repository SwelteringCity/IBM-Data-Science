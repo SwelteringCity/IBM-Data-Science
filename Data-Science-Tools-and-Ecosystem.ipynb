{
  "nbformat": 4,
  "nbformat_minor": 0,
  "metadata": {
    "colab": {
      "provenance": [],
      "authorship_tag": "ABX9TyPbSXAvmf2jBkKtCF7LJ8nQ"
    },
    "kernelspec": {
      "name": "python3",
      "display_name": "Python 3"
    },
    "language_info": {
      "name": "python"
    }
  },
  "cells": [
    {
      "cell_type": "markdown",
      "source": [
        "# Data Science Tools and Ecosystem"
      ],
      "metadata": {
        "id": "HgyeG0DloV4w"
      }
    },
    {
      "cell_type": "markdown",
      "source": [
        "In this notebook, Data Science Tools and Ecosystem are summarized.This notebook is a part of coursework for the tools for data science coursework"
      ],
      "metadata": {
        "id": "8CHRauun7f-J"
      }
    },
    {
      "cell_type": "markdown",
      "source": [
        "Some of the popular languages that Data Scientists use are:\n",
        "\n",
        "1. Python\n",
        "1. R\n",
        "1. SQL\n",
        "1. Julia\n",
        "1. Scala\n",
        "1. MATLAB"
      ],
      "metadata": {
        "id": "hBgtN1BEoaJS"
      }
    },
    {
      "cell_type": "markdown",
      "source": [
        "Some of the commonly used libraries used by Data Scientists include:\n",
        "\n",
        "1. NumPy\n",
        "1. pandas\n",
        "1. matplotlib\n",
        "1. scikit-learn\n",
        "1. TensorFlow\n",
        "1. PyTorch\n",
        "1. Keras"
      ],
      "metadata": {
        "id": "1IAWSnRtoiin"
      }
    },
    {
      "cell_type": "markdown",
      "source": [
        "| Data Science Tools |\n",
        "|-------------------|\n",
        "| Jupyter Notebook  |\n",
        "| RStudio           |\n",
        "| VS Code           |"
      ],
      "metadata": {
        "id": "S0cYz4JbolFm"
      }
    },
    {
      "cell_type": "markdown",
      "source": [
        "### Below are a few examples of evaluating arithmetic expressions in Python"
      ],
      "metadata": {
        "id": "7iRvuMoj7tls"
      }
    },
    {
      "cell_type": "markdown",
      "source": [
        "# Arithmetic Expression Examples\n",
        "\n",
        "Arithmetic expressions are mathematical calculations involving operators and operands. They allow us to perform various mathematical operations such as addition, subtraction, multiplication, and division. Here are some examples of arithmetic expressions:\n",
        "\n",
        "## Addition\n",
        "In this example, we add two numbers:\n",
        "2+3=5"
      ],
      "metadata": {
        "id": "70tm0Wd8ooW9"
      }
    },
    {
      "cell_type": "code",
      "source": [
        "# This a simple arithmetic expression to mutiply then add integers\n",
        "(3*4)+5"
      ],
      "metadata": {
        "colab": {
          "base_uri": "https://localhost:8080/"
        },
        "id": "AYw0T3x2osGO",
        "outputId": "ad437769-4420-42b6-88e3-e269d82ee787"
      },
      "execution_count": null,
      "outputs": [
        {
          "output_type": "stream",
          "name": "stdout",
          "text": [
            "Product: 35\n",
            "Sum: 12\n"
          ]
        }
      ]
    },
    {
      "cell_type": "code",
      "source": [
        "# This will convert 200 minutes to hours by diving by 60\n",
        "200/60\n"
      ],
      "metadata": {
        "id": "NZLeNu7ZovQO"
      },
      "execution_count": null,
      "outputs": []
    },
    {
      "cell_type": "markdown",
      "source": [
        "**Objectives**\n",
        "\n",
        " - List popular languages for Data Science \n",
        " - To understand the basics of markdown\n",
        " - To understand the basics of a jupyter notebook"
      ],
      "metadata": {
        "id": "HpyFjYJioxOy"
      }
    },
    {
      "cell_type": "markdown",
      "source": [
        "## Author\n",
        "SwelteringCity"
      ],
      "metadata": {
        "id": "A-nYdA5Doz7o"
      }
    }
  ]
}
