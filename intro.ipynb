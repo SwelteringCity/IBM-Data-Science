{
  "nbformat": 4,
  "nbformat_minor": 0,
  "metadata": {
    "colab": {
      "provenance": [],
      "authorship_tag": "ABX9TyMLWBRIpCOrAf6Vp+NhKcrb",
      "include_colab_link": true
    },
    "kernelspec": {
      "name": "python3",
      "display_name": "Python 3"
    },
    "language_info": {
      "name": "python"
    }
  },
  "cells": [
    {
      "cell_type": "markdown",
      "metadata": {
        "id": "view-in-github",
        "colab_type": "text"
      },
      "source": [
        "<a href=\"https://colab.research.google.com/github/SwelteringCity/IBM-Data-Science/blob/main/intro.ipynb\" target=\"_parent\"><img src=\"https://colab.research.google.com/assets/colab-badge.svg\" alt=\"Open In Colab\"/></a>"
      ]
    },
    {
      "cell_type": "markdown",
      "source": [
        "# Notebook"
      ],
      "metadata": {
        "id": "HgyeG0DloV4w"
      }
    },
    {
      "cell_type": "markdown",
      "source": [
        "# Data science languages\n",
        "\n",
        "- Python\n",
        "- R\n",
        "- Julia\n",
        "- Scala"
      ],
      "metadata": {
        "id": "hBgtN1BEoaJS"
      }
    },
    {
      "cell_type": "markdown",
      "source": [
        "# Data Science Libraries\n",
        "\n",
        "## Python\n",
        "\n",
        "- NumPy\n",
        "- Pandas\n",
        "- Matplotlib\n",
        "- scikit-learn\n",
        "- TensorFlow\n",
        "- PyTorch\n",
        "\n",
        "## R\n",
        "\n",
        "- dplyr\n",
        "- gplot2\n",
        "- tidyr"
      ],
      "metadata": {
        "id": "1IAWSnRtoiin"
      }
    },
    {
      "cell_type": "markdown",
      "source": [
        "| Language | Libraries/Tools               |\n",
        "|----------|------------------------------|\n",
        "| Python   | NumPy, Pandas, Matplotlib, scikit-learn, TensorFlow, PyTorch |\n",
        "| R        | dplyr, ggplot2, caret, tidyr, randomForest |\n",
        "| SQL      | SQL Server, MySQL, PostgreSQL, Oracle |\n",
        "| Scala    | Apache Spark, MLlib |\n",
        "| Julia    | Flux, MLJ, JuliaDB |\n",
        "| SAS      | SAS Analytics, SAS Visual Data Mining and Machine Learning |\n",
        "| MATLAB   | Statistics and Machine Learning Toolbox, Deep Learning Toolbox |\n",
        "| Julia    | Flux, MLJ, JuliaDB |"
      ],
      "metadata": {
        "id": "S0cYz4JbolFm"
      }
    },
    {
      "cell_type": "markdown",
      "source": [
        "# Arithmetic Expression Examples\n",
        "\n",
        "Arithmetic expressions are mathematical calculations involving operators and operands. They allow us to perform various mathematical operations such as addition, subtraction, multiplication, and division. Here are some examples of arithmetic expressions:\n",
        "\n",
        "## Addition\n",
        "In this example, we add two numbers:\n",
        "2+3=5"
      ],
      "metadata": {
        "id": "70tm0Wd8ooW9"
      }
    },
    {
      "cell_type": "code",
      "source": [
        "# Multiply and Add Numbers\n",
        "num1 = 5\n",
        "num2 = 7\n",
        "\n",
        "# Multiply two numbers\n",
        "product = num1 * num2\n",
        "print(\"Product:\", product)\n",
        "\n",
        "# Add two numbers\n",
        "sum = num1 + num2\n",
        "print(\"Sum:\", sum)"
      ],
      "metadata": {
        "colab": {
          "base_uri": "https://localhost:8080/"
        },
        "id": "AYw0T3x2osGO",
        "outputId": "ad437769-4420-42b6-88e3-e269d82ee787"
      },
      "execution_count": 2,
      "outputs": [
        {
          "output_type": "stream",
          "name": "stdout",
          "text": [
            "Product: 35\n",
            "Sum: 12\n"
          ]
        }
      ]
    },
    {
      "cell_type": "code",
      "source": [
        "# Convert Minutes to Hours\n",
        "minutes = 150\n",
        "\n",
        "# Calculate hours\n",
        "hours = minutes / 60\n",
        "\n",
        "# Print the result\n",
        "print(\"Minutes:\", minutes)\n",
        "print(\"Hours:\", hours)\n"
      ],
      "metadata": {
        "id": "NZLeNu7ZovQO"
      },
      "execution_count": null,
      "outputs": []
    },
    {
      "cell_type": "markdown",
      "source": [
        "# Objectives\n",
        "\n",
        " - To understand the basics of markdown\n",
        " - To understand the basics of a jupyter notebook"
      ],
      "metadata": {
        "id": "HpyFjYJioxOy"
      }
    },
    {
      "cell_type": "markdown",
      "source": [
        "## Author's name: SwelteringCIty"
      ],
      "metadata": {
        "id": "A-nYdA5Doz7o"
      }
    }
  ]
}